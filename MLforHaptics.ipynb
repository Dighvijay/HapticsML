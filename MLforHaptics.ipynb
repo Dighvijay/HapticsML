{
  "nbformat": 4,
  "nbformat_minor": 0,
  "metadata": {
    "colab": {
      "provenance": [],
      "collapsed_sections": [],
      "machine_shape": "hm",
      "mount_file_id": "1XyqVphziFDhWSmXtG1b_XT4Z2mMCt6Ge",
      "authorship_tag": "ABX9TyNHNvY7p8nTpaV92aM9jFxZ",
      "include_colab_link": true
    },
    "kernelspec": {
      "name": "python3",
      "display_name": "Python 3"
    },
    "language_info": {
      "name": "python"
    },
    "gpuClass": "standard"
  },
  "cells": [
    {
      "cell_type": "markdown",
      "metadata": {
        "id": "view-in-github",
        "colab_type": "text"
      },
      "source": [
        "<a href=\"https://colab.research.google.com/github/Dighvijay/HapticsML/blob/main/MLforHaptics.ipynb\" target=\"_parent\"><img src=\"https://colab.research.google.com/assets/colab-badge.svg\" alt=\"Open In Colab\"/></a>"
      ]
    },
    {
      "cell_type": "code",
      "execution_count": null,
      "metadata": {
        "id": "pj3ume7YrwoF"
      },
      "outputs": [],
      "source": [
        "import numpy as np\n",
        "import matplotlib.pyplot as plt\n",
        "\"\"\"import datetime\n",
        "import scipy.fftpack\"\"\"\n",
        "import pandas as pd\n",
        "\"\"\"import os\"\"\"\n",
        "from scipy import signal\n",
        "import random\n",
        "from tensorboard.plugins.hparams import api as hp\n",
        "from tensorflow import feature_column\n",
        "from sklearn.metrics import confusion_matrix\n",
        "import seaborn as sns\n",
        "\n",
        "import tensorflow as tf\n",
        "from tensorflow import keras\n",
        "from keras import layers\n",
        "from sklearn.model_selection import train_test_split"
      ]
    },
    {
      "cell_type": "code",
      "source": [
        "from google.colab import drive\n",
        "drive.mount('/content/drive')"
      ],
      "metadata": {
        "colab": {
          "base_uri": "https://localhost:8080/"
        },
        "id": "Z2ITBZ29sFAn",
        "outputId": "f872db6c-3c54-413b-804f-e2c42543222c"
      },
      "execution_count": null,
      "outputs": [
        {
          "output_type": "stream",
          "name": "stdout",
          "text": [
            "Mounted at /content/drive\n"
          ]
        }
      ]
    },
    {
      "cell_type": "code",
      "source": [
        "column_names = [\"signalValue\", \"filteredValue\"]\n",
        "\n",
        "\n",
        "df = pd.DataFrame(columns = column_names)\n",
        "frames = []\n",
        "  \n",
        "for i in range(99):\n",
        "    fileSt ='/content/drive/MyDrive/SN/Output/accel'+str(i)+'.csv'\n",
        "    train_data = pd.read_csv(fileSt)\n",
        "    signalArrayTrain = train_data['accel'].to_numpy()\n",
        "    data = {'signalValue': signalArrayTrain}\n",
        "    df2 = pd.DataFrame(data=data)\n",
        "    frames.append(df2)\n",
        "    \n",
        "result = pd.concat(frames)  "
      ],
      "metadata": {
        "id": "XDoKpCtUsd4l"
      },
      "execution_count": null,
      "outputs": []
    },
    {
      "cell_type": "code",
      "source": [
        "X_values = result.to_numpy()\n",
        "X_values = np.reshape(np.ravel(X_values), (99, 100000))\n",
        "import matplotlib.pyplot as plt\n",
        "#plt.plot(X_values[0])"
      ],
      "metadata": {
        "id": "aw2KKeXX-k3l"
      },
      "execution_count": null,
      "outputs": []
    },
    {
      "cell_type": "code",
      "source": [
        "num_taps = 51 #it helps to use an odd number of taps\n",
        "cut_off = 1800 # Hz\n",
        "sample_rate = 32000 # Hz\n",
        "\n",
        "# creating the low pass filter\n",
        "h = signal.firwin(num_taps, cut_off, nyq=sample_rate/2)\n",
        "\n",
        "# Plotting the impulse response\n",
        "plt.plot(h, '.-')\n",
        "plt.show()"
      ],
      "metadata": {
        "colab": {
          "base_uri": "https://localhost:8080/",
          "height": 265
        },
        "id": "eeeaffxnPAxA",
        "outputId": "2e25bbf6-6adc-4dad-a3b1-b4064e689496"
      },
      "execution_count": null,
      "outputs": [
        {
          "output_type": "display_data",
          "data": {
            "text/plain": [
              "<Figure size 432x288 with 1 Axes>"
            ],
            "image/png": "[encoded data removed]"
          },
          "metadata": {
            "needs_background": "light"
          }
        }
      ]
    },
    {
      "cell_type": "code",
      "source": [
        "Y_values = np.zeros((99,100000))\n",
        "for i in range(99):\n",
        "  Y_values[i] = signal.lfilter(h, 1.0, X_values[i])\n",
        "#print(Y_values[0])\n",
        "#print(\"\")\n",
        "#print(X_values[0])\n"
      ],
      "metadata": {
        "id": "9_yitKQiRXWe"
      },
      "execution_count": null,
      "outputs": []
    },
    {
      "cell_type": "code",
      "source": [
        "plt.plot(X_values[1])\n",
        "plt.plot(Y_values[1])\n",
        "plt.show()"
      ],
      "metadata": {
        "colab": {
          "base_uri": "https://localhost:8080/",
          "height": 265
        },
        "id": "lHWun0nONGfI",
        "outputId": "44fc6f91-dff0-4ba8-bc39-bd1047b5c7d6"
      },
      "execution_count": null,
      "outputs": [
        {
          "output_type": "display_data",
          "data": {
            "text/plain": [
              "<Figure size 432x288 with 1 Axes>"
            ],
            "image/png": "[encoded data removed]"
          },
          "metadata": {
            "needs_background": "light"
          }
        }
      ]
    },
    {
      "cell_type": "code",
      "source": [
        "dnn_numinputs = 256\n",
        "num_train_batch = 0\n",
        "td = []\n",
        "train_labels = []\n",
        "lowValue_data = []\n",
        "num_train_data = 1000\n",
        "frames = []\n",
        "res = result['signalValue']\n",
        "resk  = res\n",
        "for k in range(num_train_data-dnn_numinputs-1):\n",
        "  td = np.concatenate((td,resk[k:k+dnn_numinputs]))\n",
        "  low = random.randint(10,20)\n",
        "  high = random.randint(25,50)\n",
        "  sos = signal.butter(low, high, 'hp', fs=256, output='sos')\n",
        "  yf = signal.sosfilt(sos, td)\n",
        "  data = {'signalValue': td, 'filteredValue': yf,'LowValue':low, 'HighValue':high}\n",
        "  df2 = pd.DataFrame(data=data)\n",
        "  frames.append(df2)\n",
        "  num_train_batch = num_train_batch + 1\n",
        "kk = pd.concat(frames)  \n",
        "kk"
      ],
      "metadata": {
        "colab": {
          "base_uri": "https://localhost:8080/",
          "height": 424
        },
        "id": "w-a4PnsYskoy",
        "outputId": "22e377ff-2105-43a0-bf0a-955b283eb186"
      },
      "execution_count": null,
      "outputs": [
        {
          "output_type": "execute_result",
          "data": {
            "text/plain": [
              "        signalValue  filteredValue  LowValue  HighValue\n",
              "0          0.014201       0.000196        10         50\n",
              "1         -0.047297      -0.002183        10         50\n",
              "2         -0.045746       0.009285        10         50\n",
              "3         -0.102248      -0.019747        10         50\n",
              "4         -0.074234       0.022327        10         50\n",
              "...             ...            ...       ...        ...\n",
              "190203    -5.420769      -0.040831        16         50\n",
              "190204    -5.027931      -0.022007        16         50\n",
              "190205    -4.682102       0.010626        16         50\n",
              "190206    -4.538113       0.081620        16         50\n",
              "190207    -4.061925      -0.190879        16         50\n",
              "\n",
              "[70757376 rows x 4 columns]"
            ],
            "text/html": [
              "\n",
              "  <div id=\"df-e5d7b454-5a7e-461c-8e55-a1bda2e65dd5\">\n",
              "    <div class=\"colab-df-container\">\n",
              "      <div>\n",
              "<style scoped>\n",
              "    .dataframe tbody tr th:only-of-type {\n",
              "        vertical-align: middle;\n",
              "    }\n",
              "\n",
              "    .dataframe tbody tr th {\n",
              "        vertical-align: top;\n",
              "    }\n",
              "\n",
              "    .dataframe thead th {\n",
              "        text-align: right;\n",
              "    }\n",
              "</style>\n",
              "<table border=\"1\" class=\"dataframe\">\n",
              "  <thead>\n",
              "    <tr style=\"text-align: right;\">\n",
              "      <th></th>\n",
              "      <th>signalValue</th>\n",
              "      <th>filteredValue</th>\n",
              "      <th>LowValue</th>\n",
              "      <th>HighValue</th>\n",
              "    </tr>\n",
              "  </thead>\n",
              "  <tbody>\n",
              "    <tr>\n",
              "      <th>0</th>\n",
              "      <td>0.014201</td>\n",
              "      <td>0.000196</td>\n",
              "      <td>10</td>\n",
              "      <td>50</td>\n",
              "    </tr>\n",
              "    <tr>\n",
              "      <th>1</th>\n",
              "      <td>-0.047297</td>\n",
              "      <td>-0.002183</td>\n",
              "      <td>10</td>\n",
              "      <td>50</td>\n",
              "    </tr>\n",
              "    <tr>\n",
              "      <th>2</th>\n",
              "      <td>-0.045746</td>\n",
              "      <td>0.009285</td>\n",
              "      <td>10</td>\n",
              "      <td>50</td>\n",
              "    </tr>\n",
              "    <tr>\n",
              "      <th>3</th>\n",
              "      <td>-0.102248</td>\n",
              "      <td>-0.019747</td>\n",
              "      <td>10</td>\n",
              "      <td>50</td>\n",
              "    </tr>\n",
              "    <tr>\n",
              "      <th>4</th>\n",
              "      <td>-0.074234</td>\n",
              "      <td>0.022327</td>\n",
              "      <td>10</td>\n",
              "      <td>50</td>\n",
              "    </tr>\n",
              "    <tr>\n",
              "      <th>...</th>\n",
              "      <td>...</td>\n",
              "      <td>...</td>\n",
              "      <td>...</td>\n",
              "      <td>...</td>\n",
              "    </tr>\n",
              "    <tr>\n",
              "      <th>190203</th>\n",
              "      <td>-5.420769</td>\n",
              "      <td>-0.040831</td>\n",
              "      <td>16</td>\n",
              "      <td>50</td>\n",
              "    </tr>\n",
              "    <tr>\n",
              "      <th>190204</th>\n",
              "      <td>-5.027931</td>\n",
              "      <td>-0.022007</td>\n",
              "      <td>16</td>\n",
              "      <td>50</td>\n",
              "    </tr>\n",
              "    <tr>\n",
              "      <th>190205</th>\n",
              "      <td>-4.682102</td>\n",
              "      <td>0.010626</td>\n",
              "      <td>16</td>\n",
              "      <td>50</td>\n",
              "    </tr>\n",
              "    <tr>\n",
              "      <th>190206</th>\n",
              "      <td>-4.538113</td>\n",
              "      <td>0.081620</td>\n",
              "      <td>16</td>\n",
              "      <td>50</td>\n",
              "    </tr>\n",
              "    <tr>\n",
              "      <th>190207</th>\n",
              "      <td>-4.061925</td>\n",
              "      <td>-0.190879</td>\n",
              "      <td>16</td>\n",
              "      <td>50</td>\n",
              "    </tr>\n",
              "  </tbody>\n",
              "</table>\n",
              "<p>70757376 rows × 4 columns</p>\n",
              "</div>\n",
              "      <button class=\"colab-df-convert\" onclick=\"convertToInteractive('df-e5d7b454-5a7e-461c-8e55-a1bda2e65dd5')\"\n",
              "              title=\"Convert this dataframe to an interactive table.\"\n",
              "              style=\"display:none;\">\n",
              "        \n",
              "  <svg xmlns=\"http://www.w3.org/2000/svg\" height=\"24px\"viewBox=\"0 0 24 24\"\n",
              "       width=\"24px\">\n",
              "    <path d=\"M0 0h24v24H0V0z\" fill=\"none\"/>\n",
              "    <path d=\"M18.56 5.44l.94 2.06.94-2.06 2.06-.94-2.06-.94-.94-2.06-.94 2.06-2.06.94zm-11 1L8.5 8.5l.94-2.06 2.06-.94-2.06-.94L8.5 2.5l-.94 2.06-2.06.94zm10 10l.94 2.06.94-2.06 2.06-.94-2.06-.94-.94-2.06-.94 2.06-2.06.94z\"/><path d=\"M17.41 7.96l-1.37-1.37c-.4-.4-.92-.59-1.43-.59-.52 0-1.04.2-1.43.59L10.3 9.45l-7.72 7.72c-.78.78-.78 2.05 0 2.83L4 21.41c.39.39.9.59 1.41.59.51 0 1.02-.2 1.41-.59l7.78-7.78 2.81-2.81c.8-.78.8-2.07 0-2.86zM5.41 20L4 18.59l7.72-7.72 1.47 1.35L5.41 20z\"/>\n",
              "  </svg>\n",
              "      </button>\n",
              "      \n",
              "  <style>\n",
              "    .colab-df-container {\n",
              "      display:flex;\n",
              "      flex-wrap:wrap;\n",
              "      gap: 12px;\n",
              "    }\n",
              "\n",
              "    .colab-df-convert {\n",
              "      background-color: #E8F0FE;\n",
              "      border: none;\n",
              "      border-radius: 50%;\n",
              "      cursor: pointer;\n",
              "      display: none;\n",
              "      fill: #1967D2;\n",
              "      height: 32px;\n",
              "      padding: 0 0 0 0;\n",
              "      width: 32px;\n",
              "    }\n",
              "\n",
              "    .colab-df-convert:hover {\n",
              "      background-color: #E2EBFA;\n",
              "      box-shadow: 0px 1px 2px rgba(60, 64, 67, 0.3), 0px 1px 3px 1px rgba(60, 64, 67, 0.15);\n",
              "      fill: #174EA6;\n",
              "    }\n",
              "\n",
              "    [theme=dark] .colab-df-convert {\n",
              "      background-color: #3B4455;\n",
              "      fill: #D2E3FC;\n",
              "    }\n",
              "\n",
              "    [theme=dark] .colab-df-convert:hover {\n",
              "      background-color: #434B5C;\n",
              "      box-shadow: 0px 1px 3px 1px rgba(0, 0, 0, 0.15);\n",
              "      filter: drop-shadow(0px 1px 2px rgba(0, 0, 0, 0.3));\n",
              "      fill: #FFFFFF;\n",
              "    }\n",
              "  </style>\n",
              "\n",
              "      <script>\n",
              "        const buttonEl =\n",
              "          document.querySelector('#df-e5d7b454-5a7e-461c-8e55-a1bda2e65dd5 button.colab-df-convert');\n",
              "        buttonEl.style.display =\n",
              "          google.colab.kernel.accessAllowed ? 'block' : 'none';\n",
              "\n",
              "        async function convertToInteractive(key) {\n",
              "          const element = document.querySelector('#df-e5d7b454-5a7e-461c-8e55-a1bda2e65dd5');\n",
              "          const dataTable =\n",
              "            await google.colab.kernel.invokeFunction('convertToInteractive',\n",
              "                                                     [key], {});\n",
              "          if (!dataTable) return;\n",
              "\n",
              "          const docLinkHtml = 'Like what you see? Visit the ' +\n",
              "            '<a target=\"_blank\" href=https://colab.research.google.com/notebooks/data_table.ipynb>data table notebook</a>'\n",
              "            + ' to learn more about interactive tables.';\n",
              "          element.innerHTML = '';\n",
              "          dataTable['output_type'] = 'display_data';\n",
              "          await google.colab.output.renderOutput(dataTable, element);\n",
              "          const docLink = document.createElement('div');\n",
              "          docLink.innerHTML = docLinkHtml;\n",
              "          element.appendChild(docLink);\n",
              "        }\n",
              "      </script>\n",
              "    </div>\n",
              "  </div>\n",
              "  "
            ]
          },
          "metadata": {},
          "execution_count": 8
        }
      ]
    },
    {
      "cell_type": "code",
      "source": [
        "num_train_batch"
      ],
      "metadata": {
        "colab": {
          "base_uri": "https://localhost:8080/"
        },
        "id": "b-SwYQS5H3Sa",
        "outputId": "37c5a7b9-2414-4e32-8c8e-8621419bf24b"
      },
      "execution_count": null,
      "outputs": [
        {
          "output_type": "execute_result",
          "data": {
            "text/plain": [
              "743"
            ]
          },
          "metadata": {},
          "execution_count": 9
        }
      ]
    },
    {
      "cell_type": "code",
      "source": [
        "from pandas.core.frame import DataFrame\n",
        "from matplotlib import pyplot\n",
        "\"\"\"\n",
        "p = 0\n",
        "# for no in range(1,10):\n",
        "\n",
        "wave = DataFrame()\n",
        "filterWave = DataFrame()\n",
        "for no in range(1,10):\n",
        "  low = (0+no*256)\n",
        "  high = (256+ no*256)\n",
        "  wave[no] = kk['signalValue'][low:high]\n",
        "  filterWave[no] = kk['filteredValue'][low:high]\n",
        "\n",
        "wave.plot(subplots=True, legend=False)\n",
        "filterWave.plot(subplots=True, legend=False)\n",
        "\n",
        "pyplot.show()\n",
        "\"\"\""
      ],
      "metadata": {
        "colab": {
          "base_uri": "https://localhost:8080/",
          "height": 71
        },
        "id": "NoZKl0eAx0MQ",
        "outputId": "f5329f40-a9af-49c4-ac05-13b938fcfd68"
      },
      "execution_count": null,
      "outputs": [
        {
          "output_type": "execute_result",
          "data": {
            "text/plain": [
              "\"p = 0\\n# for no in range(1,10):\\n\\nwave = DataFrame()\\nfilterWave = DataFrame()\\nfor no in range(1,10):\\n  low = (0+no*256)\\n  high = (256+ no*256)\\n  wave[no] = kk['signalValue'][low:high]\\n  filterWave[no] = kk['filteredValue'][low:high]\\n\\nwave.plot(subplots=True, legend=False)\\nfilterWave.plot(subplots=True, legend=False)\\n\\npyplot.show()\\n\""
            ],
            "application/vnd.google.colaboratory.intrinsic+json": {
              "type": "string"
            }
          },
          "metadata": {},
          "execution_count": 10
        }
      ]
    },
    {
      "cell_type": "code",
      "source": [
        "X = np.asarray(kk[['signalValue', 'LowValue', 'HighValue']])\n",
        "Y = np.asarray(kk[['filteredValue']])\n",
        "X_small = X\n",
        "Y_small = Y\n",
        "X_train, X_test, y_train, y_test = train_test_split(X_small, Y_small, test_size=0.33, shuffle= False)\n",
        "\n",
        "# train, test = train_test_split(X_small, test_size=0.2)\n",
        "X_remtrain, X_val,y_remtrain,y_val = train_test_split(X_train, y_train, test_size=0.25, shuffle= False)\n",
        "print(len(X_remtrain), 'train examples')\n",
        "print(len(X_val), 'validation examples')\n",
        "print(len(X_test), 'test examples')"
      ],
      "metadata": {
        "id": "EwjsVqRctx5V",
        "colab": {
          "base_uri": "https://localhost:8080/"
        },
        "outputId": "f3a9f971-f4a8-4ac8-8a54-8cbacd065fbb"
      },
      "execution_count": null,
      "outputs": [
        {
          "output_type": "stream",
          "name": "stdout",
          "text": [
            "35555580 train examples\n",
            "11851861 validation examples\n",
            "23349935 test examples\n"
          ]
        }
      ]
    },
    {
      "cell_type": "code",
      "source": [
        "# A simple regression model\n",
        "model = tf.keras.Sequential()\n",
        "model.add(layers.Dense(3, input_shape=(X_train.shape[1],)))\n",
        "model.add(layers.Dense(3))\n",
        "model.add(layers.Dense(3))\n",
        "model.compile(loss='mse', optimizer='rmsprop')\n",
        "\n",
        "# The fit() method - trains the model\n",
        "model.fit(X_remtrain, y_remtrain, epochs=5)\n",
        "\n",
        "\n",
        "# The evaluate() method - gets the loss statistics\n",
        "model.evaluate(X_val, y_val)     \n",
        "\n",
        "\n",
        "# The predict() method - predict the outputs for the given inputs\n",
        "model.predict(X_test)\n",
        "\n"
      ],
      "metadata": {
        "colab": {
          "base_uri": "https://localhost:8080/"
        },
        "id": "P5FhMGpRt1-k",
        "outputId": "3026f48c-21e2-4c77-f878-fdf2f76a6d5b"
      },
      "execution_count": null,
      "outputs": [
        {
          "output_type": "stream",
          "name": "stdout",
          "text": [
            "Epoch 1/5\n",
            "1111112/1111112 [==============================] - 1664s 1ms/step - loss: 0.2237\n",
            "Epoch 2/5\n",
            "1111112/1111112 [==============================] - 1643s 1ms/step - loss: 0.0850\n",
            "Epoch 3/5\n",
            "1111112/1111112 [==============================] - 1644s 1ms/step - loss: 0.0850\n",
            "Epoch 4/5\n",
            "1111112/1111112 [==============================] - 1649s 1ms/step - loss: 0.0850\n",
            "Epoch 5/5\n",
            "1111112/1111112 [==============================] - 1657s 1ms/step - loss: 0.0850\n",
            "370371/370371 [==============================] - 448s 1ms/step - loss: 0.0661\n",
            "729686/729686 [==============================] - 795s 1ms/step\n"
          ]
        },
        {
          "output_type": "execute_result",
          "data": {
            "text/plain": [
              "array([[-0.00059031, -0.00059031, -0.00059031],\n",
              "       [-0.00059633, -0.00059633, -0.00059633],\n",
              "       [-0.00060263, -0.00060263, -0.00060263],\n",
              "       ...,\n",
              "       [-0.00073308, -0.00073308, -0.00073308],\n",
              "       [-0.00073176, -0.00073176, -0.00073176],\n",
              "       [-0.00072741, -0.00072741, -0.00072741]], dtype=float32)"
            ]
          },
          "metadata": {},
          "execution_count": 12
        }
      ]
    },
    {
      "cell_type": "code",
      "source": [
        "from sklearn.metrics import mean_squared_error\n",
        "err = mean_squared_error(y_test, model.predict(X_test))"
      ],
      "metadata": {
        "colab": {
          "base_uri": "https://localhost:8080/",
          "height": 353
        },
        "id": "mU8edYCm2pze",
        "outputId": "4fcfb32c-45df-4992-ca8f-664ef4b8321d"
      },
      "execution_count": null,
      "outputs": [
        {
          "output_type": "stream",
          "name": "stdout",
          "text": [
            "729686/729686 [==============================] - 831s 1ms/step\n"
          ]
        },
        {
          "output_type": "error",
          "ename": "ValueError",
          "evalue": "ignored",
          "traceback": [
            "\u001b[0;31m---------------------------------------------------------------------------\u001b[0m",
            "\u001b[0;31mValueError\u001b[0m                                Traceback (most recent call last)",
            "\u001b[0;32m<ipython-input-13-c6e5735796f0>\u001b[0m in \u001b[0;36m<module>\u001b[0;34m\u001b[0m\n\u001b[1;32m      1\u001b[0m \u001b[0;32mfrom\u001b[0m \u001b[0msklearn\u001b[0m\u001b[0;34m.\u001b[0m\u001b[0mmetrics\u001b[0m \u001b[0;32mimport\u001b[0m \u001b[0mmean_squared_error\u001b[0m\u001b[0;34m\u001b[0m\u001b[0;34m\u001b[0m\u001b[0m\n\u001b[0;32m----> 2\u001b[0;31m \u001b[0merr\u001b[0m \u001b[0;34m=\u001b[0m \u001b[0mmean_squared_error\u001b[0m\u001b[0;34m(\u001b[0m\u001b[0my_test\u001b[0m\u001b[0;34m,\u001b[0m \u001b[0mmodel\u001b[0m\u001b[0;34m.\u001b[0m\u001b[0mpredict\u001b[0m\u001b[0;34m(\u001b[0m\u001b[0mX_test\u001b[0m\u001b[0;34m)\u001b[0m\u001b[0;34m)\u001b[0m\u001b[0;34m\u001b[0m\u001b[0;34m\u001b[0m\u001b[0m\n\u001b[0m",
            "\u001b[0;32m/usr/local/lib/python3.7/dist-packages/sklearn/metrics/_regression.py\u001b[0m in \u001b[0;36mmean_squared_error\u001b[0;34m(y_true, y_pred, sample_weight, multioutput, squared)\u001b[0m\n\u001b[1;32m    437\u001b[0m     \"\"\"\n\u001b[1;32m    438\u001b[0m     y_type, y_true, y_pred, multioutput = _check_reg_targets(\n\u001b[0;32m--> 439\u001b[0;31m         \u001b[0my_true\u001b[0m\u001b[0;34m,\u001b[0m \u001b[0my_pred\u001b[0m\u001b[0;34m,\u001b[0m \u001b[0mmultioutput\u001b[0m\u001b[0;34m\u001b[0m\u001b[0;34m\u001b[0m\u001b[0m\n\u001b[0m\u001b[1;32m    440\u001b[0m     )\n\u001b[1;32m    441\u001b[0m     \u001b[0mcheck_consistent_length\u001b[0m\u001b[0;34m(\u001b[0m\u001b[0my_true\u001b[0m\u001b[0;34m,\u001b[0m \u001b[0my_pred\u001b[0m\u001b[0;34m,\u001b[0m \u001b[0msample_weight\u001b[0m\u001b[0;34m)\u001b[0m\u001b[0;34m\u001b[0m\u001b[0;34m\u001b[0m\u001b[0m\n",
            "\u001b[0;32m/usr/local/lib/python3.7/dist-packages/sklearn/metrics/_regression.py\u001b[0m in \u001b[0;36m_check_reg_targets\u001b[0;34m(y_true, y_pred, multioutput, dtype)\u001b[0m\n\u001b[1;32m    105\u001b[0m         raise ValueError(\n\u001b[1;32m    106\u001b[0m             \"y_true and y_pred have different number of output ({0}!={1})\".format(\n\u001b[0;32m--> 107\u001b[0;31m                 \u001b[0my_true\u001b[0m\u001b[0;34m.\u001b[0m\u001b[0mshape\u001b[0m\u001b[0;34m[\u001b[0m\u001b[0;36m1\u001b[0m\u001b[0;34m]\u001b[0m\u001b[0;34m,\u001b[0m \u001b[0my_pred\u001b[0m\u001b[0;34m.\u001b[0m\u001b[0mshape\u001b[0m\u001b[0;34m[\u001b[0m\u001b[0;36m1\u001b[0m\u001b[0;34m]\u001b[0m\u001b[0;34m\u001b[0m\u001b[0;34m\u001b[0m\u001b[0m\n\u001b[0m\u001b[1;32m    108\u001b[0m             )\n\u001b[1;32m    109\u001b[0m         )\n",
            "\u001b[0;31mValueError\u001b[0m: y_true and y_pred have different number of output (1!=3)"
          ]
        }
      ]
    },
    {
      "cell_type": "code",
      "source": [
        "# #@title Default title text\n",
        "# HP_NUM_UNITS1 = hp.HParam('num_units 1', hp.Discrete([64,128])) \n",
        "# HP_NUM_UNITS2 = hp.HParam('num_units 2', hp.Discrete([16,32]))\n",
        "# HP_DROPOUT = hp.HParam('dropout', hp.RealInterval(0.2, 0.5))\n",
        "# HP_OPTIMIZER = hp.HParam('optimizer', hp.Discrete(['RMSprop']))\n",
        "# HP_ACTIVATION = hp.HParam('activation', hp.Discrete(['sigmoid']))\n",
        "# HP_L2 = hp.HParam('l2 regularizer', hp.RealInterval(.001,.01))\n",
        "# METRIC_ACCURACY = 'accuracy'\n",
        "# METRIC_MSE = 'mean_squared_error'\n",
        "# with tf.summary.create_file_writer('logs/hparam_tuning').as_default():\n",
        "#   hp.hparams_config(\n",
        "#     hparams=[HP_NUM_UNITS1,HP_NUM_UNITS2, HP_DROPOUT,HP_L2 ,HP_OPTIMIZER,HP_ACTIVATION],\n",
        "#     metrics = [\n",
        "#            hp.Metric(\"precision\", display_name=\"Precision\"),\n",
        "#            hp.Metric(\"recall\", display_name=\"Recall\"),\n",
        "#            hp.Metric(\"f1\", display_name=\"F1 Score\"),\n",
        "#            hp.Metric('mean_squared_error', display_name='mse'),\n",
        "#            hp.Metric('r2', display_name='r2')],\n",
        "#   )\n",
        "\n"
      ],
      "metadata": {
        "id": "dWKZ7Wxet34F"
      },
      "execution_count": null,
      "outputs": []
    },
    {
      "cell_type": "code",
      "source": [
        "# def train_test_model(hparams):\n",
        "#   model = tf.keras.Sequential([\n",
        "   \n",
        "#     layers.Dense(hparams[HP_NUM_UNITS1], kernel_regularizer=tf.keras.regularizers.l2(hparams[HP_L2]),activation=hparams[HP_ACTIVATION]),\n",
        "#     layers.Dropout(hparams[HP_DROPOUT]),\n",
        "#     layers.Dense(hparams[HP_NUM_UNITS2], kernel_regularizer=tf.keras.regularizers.l2(hparams[HP_L2]),activation=hparams[HP_ACTIVATION]),\n",
        "#     layers.Dense(1)\n",
        "#   ])\n",
        "#   model.compile(loss='mse', optimizer=hparams[HP_OPTIMIZER], metrics=['mean_squared_error'])\n",
        "\n",
        "#   model.fit(X_train, y_train, epochs=5)\n",
        "#   loss,  mse = model.evaluate(X_train, y_train)\n",
        "#   return mse\n"
      ],
      "metadata": {
        "id": "sRQiq6-ut7Sc"
      },
      "execution_count": null,
      "outputs": []
    },
    {
      "cell_type": "code",
      "source": [
        "# def run(run_dir, hparams):\n",
        "#   with tf.summary.create_file_writer(run_dir).as_default():\n",
        "#     hp.hparams(hparams)  # record the values used in this trial\n",
        "#     mse = train_test_model(hparams)\n",
        "#     tf.summary.scalar(METRIC_MSE, mse, step=1)"
      ],
      "metadata": {
        "id": "aEoamY0It9Tf"
      },
      "execution_count": null,
      "outputs": []
    },
    {
      "cell_type": "code",
      "source": [
        "# session_num = 0\n",
        "# for num_units1 in HP_NUM_UNITS1.domain.values:\n",
        "#   for num_units2 in HP_NUM_UNITS2.domain.values:\n",
        "#     for dropout_rate in (HP_DROPOUT.domain.min_value, HP_DROPOUT.domain.max_value):\n",
        "#       for l2 in (HP_L2.domain.min_value, HP_L2.domain.max_value):\n",
        "\n",
        "#         for optimizer in HP_OPTIMIZER.domain.values:\n",
        "#           for activation in HP_ACTIVATION.domain.values:\n",
        "#             hparams = {\n",
        "#                 HP_NUM_UNITS1: num_units1,\n",
        "#                 HP_NUM_UNITS2: num_units2,\n",
        "#                 HP_DROPOUT: dropout_rate,\n",
        "#                 HP_L2: l2,\n",
        "#                 HP_OPTIMIZER: optimizer,\n",
        "#                 HP_ACTIVATION: activation\n",
        "#                 }\n",
        "#             run_name = \"run-%d\" % session_num\n",
        "#             print('--- Starting trial: %s' % run_name)\n",
        "#             print({h.name: hparams[h] for h in hparams})\n",
        "#             run('/content/drive/MyDrive/SN/logs/hparam_tuning/' + run_name, hparams)\n",
        "#             session_num += 1\n"
      ],
      "metadata": {
        "colab": {
          "base_uri": "https://localhost:8080/",
          "height": 570
        },
        "id": "Q1QdekLmt_lN",
        "outputId": "c14d1807-2cc3-4ca2-d4e4-891c3feff480"
      },
      "execution_count": null,
      "outputs": [
        {
          "output_type": "stream",
          "name": "stdout",
          "text": [
            "--- Starting trial: run-0\n",
            "{'num_units 1': 64, 'num_units 2': 16, 'dropout': 0.2, 'l2 regularizer': 0.001, 'optimizer': 'RMSprop', 'activation': 'sigmoid'}\n",
            "Epoch 1/5\n",
            " 190/4188 [>.............................] - ETA: 10s - loss: 1.9211 - mean_squared_error: 1.8981"
          ]
        },
        {
          "output_type": "error",
          "ename": "KeyboardInterrupt",
          "evalue": "ignored",
          "traceback": [
            "\u001b[0;31m---------------------------------------------------------------------------\u001b[0m",
            "\u001b[0;31mKeyboardInterrupt\u001b[0m                         Traceback (most recent call last)",
            "\u001b[0;32m<ipython-input-16-278091f96a9a>\u001b[0m in \u001b[0;36m<module>\u001b[0;34m()\u001b[0m\n\u001b[1;32m     18\u001b[0m             \u001b[0mprint\u001b[0m\u001b[0;34m(\u001b[0m\u001b[0;34m'--- Starting trial: %s'\u001b[0m \u001b[0;34m%\u001b[0m \u001b[0mrun_name\u001b[0m\u001b[0;34m)\u001b[0m\u001b[0;34m\u001b[0m\u001b[0;34m\u001b[0m\u001b[0m\n\u001b[1;32m     19\u001b[0m             \u001b[0mprint\u001b[0m\u001b[0;34m(\u001b[0m\u001b[0;34m{\u001b[0m\u001b[0mh\u001b[0m\u001b[0;34m.\u001b[0m\u001b[0mname\u001b[0m\u001b[0;34m:\u001b[0m \u001b[0mhparams\u001b[0m\u001b[0;34m[\u001b[0m\u001b[0mh\u001b[0m\u001b[0;34m]\u001b[0m \u001b[0;32mfor\u001b[0m \u001b[0mh\u001b[0m \u001b[0;32min\u001b[0m \u001b[0mhparams\u001b[0m\u001b[0;34m}\u001b[0m\u001b[0;34m)\u001b[0m\u001b[0;34m\u001b[0m\u001b[0;34m\u001b[0m\u001b[0m\n\u001b[0;32m---> 20\u001b[0;31m             \u001b[0mrun\u001b[0m\u001b[0;34m(\u001b[0m\u001b[0;34m'/content/drive/MyDrive/SN/logs/hparam_tuning/'\u001b[0m \u001b[0;34m+\u001b[0m \u001b[0mrun_name\u001b[0m\u001b[0;34m,\u001b[0m \u001b[0mhparams\u001b[0m\u001b[0;34m)\u001b[0m\u001b[0;34m\u001b[0m\u001b[0;34m\u001b[0m\u001b[0m\n\u001b[0m\u001b[1;32m     21\u001b[0m             \u001b[0msession_num\u001b[0m \u001b[0;34m+=\u001b[0m \u001b[0;36m1\u001b[0m\u001b[0;34m\u001b[0m\u001b[0;34m\u001b[0m\u001b[0m\n",
            "\u001b[0;32m<ipython-input-12-f74c2a08976d>\u001b[0m in \u001b[0;36mrun\u001b[0;34m(run_dir, hparams)\u001b[0m\n\u001b[1;32m      2\u001b[0m   \u001b[0;32mwith\u001b[0m \u001b[0mtf\u001b[0m\u001b[0;34m.\u001b[0m\u001b[0msummary\u001b[0m\u001b[0;34m.\u001b[0m\u001b[0mcreate_file_writer\u001b[0m\u001b[0;34m(\u001b[0m\u001b[0mrun_dir\u001b[0m\u001b[0;34m)\u001b[0m\u001b[0;34m.\u001b[0m\u001b[0mas_default\u001b[0m\u001b[0;34m(\u001b[0m\u001b[0;34m)\u001b[0m\u001b[0;34m:\u001b[0m\u001b[0;34m\u001b[0m\u001b[0;34m\u001b[0m\u001b[0m\n\u001b[1;32m      3\u001b[0m     \u001b[0mhp\u001b[0m\u001b[0;34m.\u001b[0m\u001b[0mhparams\u001b[0m\u001b[0;34m(\u001b[0m\u001b[0mhparams\u001b[0m\u001b[0;34m)\u001b[0m  \u001b[0;31m# record the values used in this trial\u001b[0m\u001b[0;34m\u001b[0m\u001b[0;34m\u001b[0m\u001b[0m\n\u001b[0;32m----> 4\u001b[0;31m     \u001b[0mmse\u001b[0m \u001b[0;34m=\u001b[0m \u001b[0mtrain_test_model\u001b[0m\u001b[0;34m(\u001b[0m\u001b[0mhparams\u001b[0m\u001b[0;34m)\u001b[0m\u001b[0;34m\u001b[0m\u001b[0;34m\u001b[0m\u001b[0m\n\u001b[0m\u001b[1;32m      5\u001b[0m     \u001b[0mtf\u001b[0m\u001b[0;34m.\u001b[0m\u001b[0msummary\u001b[0m\u001b[0;34m.\u001b[0m\u001b[0mscalar\u001b[0m\u001b[0;34m(\u001b[0m\u001b[0mMETRIC_MSE\u001b[0m\u001b[0;34m,\u001b[0m \u001b[0mmse\u001b[0m\u001b[0;34m,\u001b[0m \u001b[0mstep\u001b[0m\u001b[0;34m=\u001b[0m\u001b[0;36m1\u001b[0m\u001b[0;34m)\u001b[0m\u001b[0;34m\u001b[0m\u001b[0;34m\u001b[0m\u001b[0m\n",
            "\u001b[0;32m<ipython-input-11-7c13201b33f6>\u001b[0m in \u001b[0;36mtrain_test_model\u001b[0;34m(hparams)\u001b[0m\n\u001b[1;32m      9\u001b[0m   \u001b[0mmodel\u001b[0m\u001b[0;34m.\u001b[0m\u001b[0mcompile\u001b[0m\u001b[0;34m(\u001b[0m\u001b[0mloss\u001b[0m\u001b[0;34m=\u001b[0m\u001b[0;34m'mse'\u001b[0m\u001b[0;34m,\u001b[0m \u001b[0moptimizer\u001b[0m\u001b[0;34m=\u001b[0m\u001b[0mhparams\u001b[0m\u001b[0;34m[\u001b[0m\u001b[0mHP_OPTIMIZER\u001b[0m\u001b[0;34m]\u001b[0m\u001b[0;34m,\u001b[0m \u001b[0mmetrics\u001b[0m\u001b[0;34m=\u001b[0m\u001b[0;34m[\u001b[0m\u001b[0;34m'mean_squared_error'\u001b[0m\u001b[0;34m]\u001b[0m\u001b[0;34m)\u001b[0m\u001b[0;34m\u001b[0m\u001b[0;34m\u001b[0m\u001b[0m\n\u001b[1;32m     10\u001b[0m \u001b[0;34m\u001b[0m\u001b[0m\n\u001b[0;32m---> 11\u001b[0;31m   \u001b[0mmodel\u001b[0m\u001b[0;34m.\u001b[0m\u001b[0mfit\u001b[0m\u001b[0;34m(\u001b[0m\u001b[0mX_train\u001b[0m\u001b[0;34m,\u001b[0m \u001b[0my_train\u001b[0m\u001b[0;34m,\u001b[0m \u001b[0mepochs\u001b[0m\u001b[0;34m=\u001b[0m\u001b[0;36m5\u001b[0m\u001b[0;34m)\u001b[0m\u001b[0;34m\u001b[0m\u001b[0;34m\u001b[0m\u001b[0m\n\u001b[0m\u001b[1;32m     12\u001b[0m   \u001b[0mloss\u001b[0m\u001b[0;34m,\u001b[0m  \u001b[0mmse\u001b[0m \u001b[0;34m=\u001b[0m \u001b[0mmodel\u001b[0m\u001b[0;34m.\u001b[0m\u001b[0mevaluate\u001b[0m\u001b[0;34m(\u001b[0m\u001b[0mX_train\u001b[0m\u001b[0;34m,\u001b[0m \u001b[0my_train\u001b[0m\u001b[0;34m)\u001b[0m\u001b[0;34m\u001b[0m\u001b[0;34m\u001b[0m\u001b[0m\n\u001b[1;32m     13\u001b[0m   \u001b[0;32mreturn\u001b[0m \u001b[0mmse\u001b[0m\u001b[0;34m\u001b[0m\u001b[0;34m\u001b[0m\u001b[0m\n",
            "\u001b[0;32m/usr/local/lib/python3.7/dist-packages/keras/utils/traceback_utils.py\u001b[0m in \u001b[0;36merror_handler\u001b[0;34m(*args, **kwargs)\u001b[0m\n\u001b[1;32m     62\u001b[0m     \u001b[0mfiltered_tb\u001b[0m \u001b[0;34m=\u001b[0m \u001b[0;32mNone\u001b[0m\u001b[0;34m\u001b[0m\u001b[0;34m\u001b[0m\u001b[0m\n\u001b[1;32m     63\u001b[0m     \u001b[0;32mtry\u001b[0m\u001b[0;34m:\u001b[0m\u001b[0;34m\u001b[0m\u001b[0;34m\u001b[0m\u001b[0m\n\u001b[0;32m---> 64\u001b[0;31m       \u001b[0;32mreturn\u001b[0m \u001b[0mfn\u001b[0m\u001b[0;34m(\u001b[0m\u001b[0;34m*\u001b[0m\u001b[0margs\u001b[0m\u001b[0;34m,\u001b[0m \u001b[0;34m**\u001b[0m\u001b[0mkwargs\u001b[0m\u001b[0;34m)\u001b[0m\u001b[0;34m\u001b[0m\u001b[0;34m\u001b[0m\u001b[0m\n\u001b[0m\u001b[1;32m     65\u001b[0m     \u001b[0;32mexcept\u001b[0m \u001b[0mException\u001b[0m \u001b[0;32mas\u001b[0m \u001b[0me\u001b[0m\u001b[0;34m:\u001b[0m  \u001b[0;31m# pylint: disable=broad-except\u001b[0m\u001b[0;34m\u001b[0m\u001b[0;34m\u001b[0m\u001b[0m\n\u001b[1;32m     66\u001b[0m       \u001b[0mfiltered_tb\u001b[0m \u001b[0;34m=\u001b[0m \u001b[0m_process_traceback_frames\u001b[0m\u001b[0;34m(\u001b[0m\u001b[0me\u001b[0m\u001b[0;34m.\u001b[0m\u001b[0m__traceback__\u001b[0m\u001b[0;34m)\u001b[0m\u001b[0;34m\u001b[0m\u001b[0;34m\u001b[0m\u001b[0m\n",
            "\u001b[0;32m/usr/local/lib/python3.7/dist-packages/keras/engine/training.py\u001b[0m in \u001b[0;36mfit\u001b[0;34m(self, x, y, batch_size, epochs, verbose, callbacks, validation_split, validation_data, shuffle, class_weight, sample_weight, initial_epoch, steps_per_epoch, validation_steps, validation_batch_size, validation_freq, max_queue_size, workers, use_multiprocessing)\u001b[0m\n\u001b[1;32m   1382\u001b[0m                 _r=1):\n\u001b[1;32m   1383\u001b[0m               \u001b[0mcallbacks\u001b[0m\u001b[0;34m.\u001b[0m\u001b[0mon_train_batch_begin\u001b[0m\u001b[0;34m(\u001b[0m\u001b[0mstep\u001b[0m\u001b[0;34m)\u001b[0m\u001b[0;34m\u001b[0m\u001b[0;34m\u001b[0m\u001b[0m\n\u001b[0;32m-> 1384\u001b[0;31m               \u001b[0mtmp_logs\u001b[0m \u001b[0;34m=\u001b[0m \u001b[0mself\u001b[0m\u001b[0;34m.\u001b[0m\u001b[0mtrain_function\u001b[0m\u001b[0;34m(\u001b[0m\u001b[0miterator\u001b[0m\u001b[0;34m)\u001b[0m\u001b[0;34m\u001b[0m\u001b[0;34m\u001b[0m\u001b[0m\n\u001b[0m\u001b[1;32m   1385\u001b[0m               \u001b[0;32mif\u001b[0m \u001b[0mdata_handler\u001b[0m\u001b[0;34m.\u001b[0m\u001b[0mshould_sync\u001b[0m\u001b[0;34m:\u001b[0m\u001b[0;34m\u001b[0m\u001b[0;34m\u001b[0m\u001b[0m\n\u001b[1;32m   1386\u001b[0m                 \u001b[0mcontext\u001b[0m\u001b[0;34m.\u001b[0m\u001b[0masync_wait\u001b[0m\u001b[0;34m(\u001b[0m\u001b[0;34m)\u001b[0m\u001b[0;34m\u001b[0m\u001b[0;34m\u001b[0m\u001b[0m\n",
            "\u001b[0;32m/usr/local/lib/python3.7/dist-packages/tensorflow/python/util/traceback_utils.py\u001b[0m in \u001b[0;36merror_handler\u001b[0;34m(*args, **kwargs)\u001b[0m\n\u001b[1;32m    148\u001b[0m     \u001b[0mfiltered_tb\u001b[0m \u001b[0;34m=\u001b[0m \u001b[0;32mNone\u001b[0m\u001b[0;34m\u001b[0m\u001b[0;34m\u001b[0m\u001b[0m\n\u001b[1;32m    149\u001b[0m     \u001b[0;32mtry\u001b[0m\u001b[0;34m:\u001b[0m\u001b[0;34m\u001b[0m\u001b[0;34m\u001b[0m\u001b[0m\n\u001b[0;32m--> 150\u001b[0;31m       \u001b[0;32mreturn\u001b[0m \u001b[0mfn\u001b[0m\u001b[0;34m(\u001b[0m\u001b[0;34m*\u001b[0m\u001b[0margs\u001b[0m\u001b[0;34m,\u001b[0m \u001b[0;34m**\u001b[0m\u001b[0mkwargs\u001b[0m\u001b[0;34m)\u001b[0m\u001b[0;34m\u001b[0m\u001b[0;34m\u001b[0m\u001b[0m\n\u001b[0m\u001b[1;32m    151\u001b[0m     \u001b[0;32mexcept\u001b[0m \u001b[0mException\u001b[0m \u001b[0;32mas\u001b[0m \u001b[0me\u001b[0m\u001b[0;34m:\u001b[0m\u001b[0;34m\u001b[0m\u001b[0;34m\u001b[0m\u001b[0m\n\u001b[1;32m    152\u001b[0m       \u001b[0mfiltered_tb\u001b[0m \u001b[0;34m=\u001b[0m \u001b[0m_process_traceback_frames\u001b[0m\u001b[0;34m(\u001b[0m\u001b[0me\u001b[0m\u001b[0;34m.\u001b[0m\u001b[0m__traceback__\u001b[0m\u001b[0;34m)\u001b[0m\u001b[0;34m\u001b[0m\u001b[0;34m\u001b[0m\u001b[0m\n",
            "\u001b[0;32m/usr/local/lib/python3.7/dist-packages/tensorflow/python/eager/def_function.py\u001b[0m in \u001b[0;36m__call__\u001b[0;34m(self, *args, **kwds)\u001b[0m\n\u001b[1;32m    913\u001b[0m \u001b[0;34m\u001b[0m\u001b[0m\n\u001b[1;32m    914\u001b[0m       \u001b[0;32mwith\u001b[0m \u001b[0mOptionalXlaContext\u001b[0m\u001b[0;34m(\u001b[0m\u001b[0mself\u001b[0m\u001b[0;34m.\u001b[0m\u001b[0m_jit_compile\u001b[0m\u001b[0;34m)\u001b[0m\u001b[0;34m:\u001b[0m\u001b[0;34m\u001b[0m\u001b[0;34m\u001b[0m\u001b[0m\n\u001b[0;32m--> 915\u001b[0;31m         \u001b[0mresult\u001b[0m \u001b[0;34m=\u001b[0m \u001b[0mself\u001b[0m\u001b[0;34m.\u001b[0m\u001b[0m_call\u001b[0m\u001b[0;34m(\u001b[0m\u001b[0;34m*\u001b[0m\u001b[0margs\u001b[0m\u001b[0;34m,\u001b[0m \u001b[0;34m**\u001b[0m\u001b[0mkwds\u001b[0m\u001b[0;34m)\u001b[0m\u001b[0;34m\u001b[0m\u001b[0;34m\u001b[0m\u001b[0m\n\u001b[0m\u001b[1;32m    916\u001b[0m \u001b[0;34m\u001b[0m\u001b[0m\n\u001b[1;32m    917\u001b[0m       \u001b[0mnew_tracing_count\u001b[0m \u001b[0;34m=\u001b[0m \u001b[0mself\u001b[0m\u001b[0;34m.\u001b[0m\u001b[0mexperimental_get_tracing_count\u001b[0m\u001b[0;34m(\u001b[0m\u001b[0;34m)\u001b[0m\u001b[0;34m\u001b[0m\u001b[0;34m\u001b[0m\u001b[0m\n",
            "\u001b[0;32m/usr/local/lib/python3.7/dist-packages/tensorflow/python/eager/def_function.py\u001b[0m in \u001b[0;36m_call\u001b[0;34m(self, *args, **kwds)\u001b[0m\n\u001b[1;32m    945\u001b[0m       \u001b[0;31m# In this case we have created variables on the first call, so we run the\u001b[0m\u001b[0;34m\u001b[0m\u001b[0;34m\u001b[0m\u001b[0;34m\u001b[0m\u001b[0m\n\u001b[1;32m    946\u001b[0m       \u001b[0;31m# defunned version which is guaranteed to never create variables.\u001b[0m\u001b[0;34m\u001b[0m\u001b[0;34m\u001b[0m\u001b[0;34m\u001b[0m\u001b[0m\n\u001b[0;32m--> 947\u001b[0;31m       \u001b[0;32mreturn\u001b[0m \u001b[0mself\u001b[0m\u001b[0;34m.\u001b[0m\u001b[0m_stateless_fn\u001b[0m\u001b[0;34m(\u001b[0m\u001b[0;34m*\u001b[0m\u001b[0margs\u001b[0m\u001b[0;34m,\u001b[0m \u001b[0;34m**\u001b[0m\u001b[0mkwds\u001b[0m\u001b[0;34m)\u001b[0m  \u001b[0;31m# pylint: disable=not-callable\u001b[0m\u001b[0;34m\u001b[0m\u001b[0;34m\u001b[0m\u001b[0m\n\u001b[0m\u001b[1;32m    948\u001b[0m     \u001b[0;32melif\u001b[0m \u001b[0mself\u001b[0m\u001b[0;34m.\u001b[0m\u001b[0m_stateful_fn\u001b[0m \u001b[0;32mis\u001b[0m \u001b[0;32mnot\u001b[0m \u001b[0;32mNone\u001b[0m\u001b[0;34m:\u001b[0m\u001b[0;34m\u001b[0m\u001b[0;34m\u001b[0m\u001b[0m\n\u001b[1;32m    949\u001b[0m       \u001b[0;31m# Release the lock early so that multiple threads can perform the call\u001b[0m\u001b[0;34m\u001b[0m\u001b[0;34m\u001b[0m\u001b[0;34m\u001b[0m\u001b[0m\n",
            "\u001b[0;32m/usr/local/lib/python3.7/dist-packages/tensorflow/python/eager/function.py\u001b[0m in \u001b[0;36m__call__\u001b[0;34m(self, *args, **kwargs)\u001b[0m\n\u001b[1;32m   2955\u001b[0m        filtered_flat_args) = self._maybe_define_function(args, kwargs)\n\u001b[1;32m   2956\u001b[0m     return graph_function._call_flat(\n\u001b[0;32m-> 2957\u001b[0;31m         filtered_flat_args, captured_inputs=graph_function.captured_inputs)  # pylint: disable=protected-access\n\u001b[0m\u001b[1;32m   2958\u001b[0m \u001b[0;34m\u001b[0m\u001b[0m\n\u001b[1;32m   2959\u001b[0m   \u001b[0;34m@\u001b[0m\u001b[0mproperty\u001b[0m\u001b[0;34m\u001b[0m\u001b[0;34m\u001b[0m\u001b[0m\n",
            "\u001b[0;32m/usr/local/lib/python3.7/dist-packages/tensorflow/python/eager/function.py\u001b[0m in \u001b[0;36m_call_flat\u001b[0;34m(self, args, captured_inputs, cancellation_manager)\u001b[0m\n\u001b[1;32m   1852\u001b[0m       \u001b[0;31m# No tape is watching; skip to running the function.\u001b[0m\u001b[0;34m\u001b[0m\u001b[0;34m\u001b[0m\u001b[0;34m\u001b[0m\u001b[0m\n\u001b[1;32m   1853\u001b[0m       return self._build_call_outputs(self._inference_function.call(\n\u001b[0;32m-> 1854\u001b[0;31m           ctx, args, cancellation_manager=cancellation_manager))\n\u001b[0m\u001b[1;32m   1855\u001b[0m     forward_backward = self._select_forward_and_backward_functions(\n\u001b[1;32m   1856\u001b[0m         \u001b[0margs\u001b[0m\u001b[0;34m,\u001b[0m\u001b[0;34m\u001b[0m\u001b[0;34m\u001b[0m\u001b[0m\n",
            "\u001b[0;32m/usr/local/lib/python3.7/dist-packages/tensorflow/python/eager/function.py\u001b[0m in \u001b[0;36mcall\u001b[0;34m(self, ctx, args, cancellation_manager)\u001b[0m\n\u001b[1;32m    502\u001b[0m               \u001b[0minputs\u001b[0m\u001b[0;34m=\u001b[0m\u001b[0margs\u001b[0m\u001b[0;34m,\u001b[0m\u001b[0;34m\u001b[0m\u001b[0;34m\u001b[0m\u001b[0m\n\u001b[1;32m    503\u001b[0m               \u001b[0mattrs\u001b[0m\u001b[0;34m=\u001b[0m\u001b[0mattrs\u001b[0m\u001b[0;34m,\u001b[0m\u001b[0;34m\u001b[0m\u001b[0;34m\u001b[0m\u001b[0m\n\u001b[0;32m--> 504\u001b[0;31m               ctx=ctx)\n\u001b[0m\u001b[1;32m    505\u001b[0m         \u001b[0;32melse\u001b[0m\u001b[0;34m:\u001b[0m\u001b[0;34m\u001b[0m\u001b[0;34m\u001b[0m\u001b[0m\n\u001b[1;32m    506\u001b[0m           outputs = execute.execute_with_cancellation(\n",
            "\u001b[0;32m/usr/local/lib/python3.7/dist-packages/tensorflow/python/eager/execute.py\u001b[0m in \u001b[0;36mquick_execute\u001b[0;34m(op_name, num_outputs, inputs, attrs, ctx, name)\u001b[0m\n\u001b[1;32m     53\u001b[0m     \u001b[0mctx\u001b[0m\u001b[0;34m.\u001b[0m\u001b[0mensure_initialized\u001b[0m\u001b[0;34m(\u001b[0m\u001b[0;34m)\u001b[0m\u001b[0;34m\u001b[0m\u001b[0;34m\u001b[0m\u001b[0m\n\u001b[1;32m     54\u001b[0m     tensors = pywrap_tfe.TFE_Py_Execute(ctx._handle, device_name, op_name,\n\u001b[0;32m---> 55\u001b[0;31m                                         inputs, attrs, num_outputs)\n\u001b[0m\u001b[1;32m     56\u001b[0m   \u001b[0;32mexcept\u001b[0m \u001b[0mcore\u001b[0m\u001b[0;34m.\u001b[0m\u001b[0m_NotOkStatusException\u001b[0m \u001b[0;32mas\u001b[0m \u001b[0me\u001b[0m\u001b[0;34m:\u001b[0m\u001b[0;34m\u001b[0m\u001b[0;34m\u001b[0m\u001b[0m\n\u001b[1;32m     57\u001b[0m     \u001b[0;32mif\u001b[0m \u001b[0mname\u001b[0m \u001b[0;32mis\u001b[0m \u001b[0;32mnot\u001b[0m \u001b[0;32mNone\u001b[0m\u001b[0;34m:\u001b[0m\u001b[0;34m\u001b[0m\u001b[0;34m\u001b[0m\u001b[0m\n",
            "\u001b[0;31mKeyboardInterrupt\u001b[0m: "
          ]
        }
      ]
    },
    {
      "cell_type": "code",
      "source": [
        "%tensorboard --logdir /content/drive/MyDrive/logs/hparam_tuning"
      ],
      "metadata": {
        "id": "OAruV1a_uBTe"
      },
      "execution_count": null,
      "outputs": []
    },
    {
      "cell_type": "code",
      "source": [
        "# Define a simple sequential model\n",
        "def create_model():\n",
        "  model = tf.keras.Sequential([\n",
        "  layers.Dense(4, kernel_regularizer=tf.keras.regularizers.l2(0.001),activation='sigmoid'),\n",
        "  layers.Dropout(0.2),\n",
        "  layers.Dense(8, kernel_regularizer=tf.keras.regularizers.l2(0.001),activation='sigmoid'),\n",
        "  layers.Dense(1)\n",
        "  ])\n",
        "  model.compile(loss='mse', optimizer='RMSprop', metrics=['accuracy','mean_squared_error'])\n",
        "\n",
        "  return model\n",
        "  \n",
        "  # # Create a basic model instance\n",
        "  model = create_model()\n",
        "  # # Display the model's architecture\n",
        "  model.summary()  \n",
        "\n",
        "\n",
        "\n",
        "\n",
        "\n",
        "  "
      ],
      "metadata": {
        "id": "G5o3FLTyIMxZ"
      },
      "execution_count": null,
      "outputs": []
    },
    {
      "cell_type": "code",
      "source": [
        "checkpoint_path = \"training_1/cp.ckpt\"\n",
        "checkpoint_dir = os.path.dirname(checkpoint_path)\n",
        "model = create_model()\n",
        "\n",
        "# Create a callback that saves the model's weights\n",
        "cp_callback = tf.keras.callbacks.ModelCheckpoint(filepath=checkpoint_path,\n",
        "                                                 save_weights_only=True,\n",
        "                                                 verbose=1)\n",
        "\n",
        "# Train the model with the new callback\n",
        "model.fit(X_train, y_train, epochs=10,callbacks=[cp_callback]) "
      ],
      "metadata": {
        "colab": {
          "base_uri": "https://localhost:8080/",
          "height": 240
        },
        "id": "7en7b7m2JaiC",
        "outputId": "a4211deb-b32f-4f26-9aa1-f7a72c5ee38a"
      },
      "execution_count": null,
      "outputs": [
        {
          "output_type": "error",
          "ename": "NameError",
          "evalue": "ignored",
          "traceback": [
            "\u001b[0;31m---------------------------------------------------------------------------\u001b[0m",
            "\u001b[0;31mNameError\u001b[0m                                 Traceback (most recent call last)",
            "\u001b[0;32m<ipython-input-2-b2e74eb93483>\u001b[0m in \u001b[0;36m<module>\u001b[0;34m()\u001b[0m\n\u001b[1;32m      1\u001b[0m \u001b[0mcheckpoint_path\u001b[0m \u001b[0;34m=\u001b[0m \u001b[0;34m\"training_1/cp.ckpt\"\u001b[0m\u001b[0;34m\u001b[0m\u001b[0;34m\u001b[0m\u001b[0m\n\u001b[0;32m----> 2\u001b[0;31m \u001b[0mcheckpoint_dir\u001b[0m \u001b[0;34m=\u001b[0m \u001b[0mos\u001b[0m\u001b[0;34m.\u001b[0m\u001b[0mpath\u001b[0m\u001b[0;34m.\u001b[0m\u001b[0mdirname\u001b[0m\u001b[0;34m(\u001b[0m\u001b[0mcheckpoint_path\u001b[0m\u001b[0;34m)\u001b[0m\u001b[0;34m\u001b[0m\u001b[0;34m\u001b[0m\u001b[0m\n\u001b[0m\u001b[1;32m      3\u001b[0m \u001b[0mmodel\u001b[0m \u001b[0;34m=\u001b[0m \u001b[0mcreate_model\u001b[0m\u001b[0;34m(\u001b[0m\u001b[0;34m)\u001b[0m\u001b[0;34m\u001b[0m\u001b[0;34m\u001b[0m\u001b[0m\n\u001b[1;32m      4\u001b[0m \u001b[0;34m\u001b[0m\u001b[0m\n\u001b[1;32m      5\u001b[0m \u001b[0;31m# Create a callback that saves the model's weights\u001b[0m\u001b[0;34m\u001b[0m\u001b[0;34m\u001b[0m\u001b[0;34m\u001b[0m\u001b[0m\n",
            "\u001b[0;31mNameError\u001b[0m: name 'os' is not defined"
          ]
        }
      ]
    },
    {
      "cell_type": "code",
      "source": [
        "# checkpoint_path = \"training_2/cp-{epoch:04d}.ckpt\"\n",
        "# checkpoint_dir = os.path.dirname(checkpoint_path)\n",
        "\n",
        "# batch_size = 32\n",
        "\n",
        "# # Create a callback that saves the model's weights every 5 epochs\n",
        "# cp_callback = tf.keras.callbacks.ModelCheckpoint(\n",
        "#     filepath=checkpoint_path, \n",
        "#     verbose=1, \n",
        "#     save_weights_only=True,\n",
        "#     save_freq=5*num_train_batch)\n",
        "\n",
        "# Create a new model instance\n",
        "model = create_model()\n",
        "\n",
        "# Save the weights using the `checkpoint_path` format\n",
        "# model.save_weights(checkpoint_path.format(epoch=0))\n",
        "\n",
        "# Train the model with the new callback\n",
        "# model.fit(train_images, \n",
        "#           train_labels,\n",
        "#           epochs=50, \n",
        "#           batch_size=batch_size, \n",
        "#           callbacks=[cp_callback],\n",
        "#           validation_data=(test_images, test_labels),\n",
        "#           verbose=0)\n",
        "\n",
        "\n",
        "model.fit(X_train, y_train, epochs=10)\n",
        "loss, accuracy, mse = model.evaluate(X_train, y_train)\n"
      ],
      "metadata": {
        "colab": {
          "base_uri": "https://localhost:8080/",
          "height": 240
        },
        "id": "4NBAsdk-uS6S",
        "outputId": "919dc811-0a81-4509-ae0d-46393af63e91"
      },
      "execution_count": null,
      "outputs": [
        {
          "output_type": "error",
          "ename": "NameError",
          "evalue": "ignored",
          "traceback": [
            "\u001b[0;31m---------------------------------------------------------------------------\u001b[0m",
            "\u001b[0;31mNameError\u001b[0m                                 Traceback (most recent call last)",
            "\u001b[0;32m<ipython-input-5-9a4fe3aaf361>\u001b[0m in \u001b[0;36m<module>\u001b[0;34m()\u001b[0m\n\u001b[1;32m     12\u001b[0m \u001b[0;34m\u001b[0m\u001b[0m\n\u001b[1;32m     13\u001b[0m \u001b[0;31m# Create a new model instance\u001b[0m\u001b[0;34m\u001b[0m\u001b[0;34m\u001b[0m\u001b[0;34m\u001b[0m\u001b[0m\n\u001b[0;32m---> 14\u001b[0;31m \u001b[0mmodel\u001b[0m \u001b[0;34m=\u001b[0m \u001b[0mcreate_model\u001b[0m\u001b[0;34m(\u001b[0m\u001b[0;34m)\u001b[0m\u001b[0;34m\u001b[0m\u001b[0;34m\u001b[0m\u001b[0m\n\u001b[0m\u001b[1;32m     15\u001b[0m \u001b[0;34m\u001b[0m\u001b[0m\n\u001b[1;32m     16\u001b[0m \u001b[0;31m# Save the weights using the `checkpoint_path` format\u001b[0m\u001b[0;34m\u001b[0m\u001b[0;34m\u001b[0m\u001b[0;34m\u001b[0m\u001b[0m\n",
            "\u001b[0;31mNameError\u001b[0m: name 'create_model' is not defined"
          ]
        }
      ]
    },
    {
      "cell_type": "code",
      "source": [
        "!mkdir -p /content/drive/MyDrive/SN/saved_model\n",
        "model.save('/content/drive/MyDrive/SN/saved_model/my_model') "
      ],
      "metadata": {
        "colab": {
          "base_uri": "https://localhost:8080/"
        },
        "id": "cejXT26x6oQ8",
        "outputId": "99ea2d5d-acec-41ea-c503-a419f5bda5eb"
      },
      "execution_count": null,
      "outputs": [
        {
          "output_type": "stream",
          "name": "stdout",
          "text": [
            "INFO:tensorflow:Assets written to: /content/drive/MyDrive/SN/saved_model/my_model/assets\n"
          ]
        }
      ]
    },
    {
      "cell_type": "code",
      "source": [
        "strt_time = datetime.datetime.now()\n",
        "dnn_out = model.predict(X_test)\n",
        "curr_time = datetime.datetime.now()\n",
        "timedelta = curr_time - strt_time\n",
        "print(\"DNN Time\" ,timedelta.total_seconds())"
      ],
      "metadata": {
        "id": "8je3Ths7xGbx",
        "colab": {
          "base_uri": "https://localhost:8080/"
        },
        "outputId": "0e1672ee-7f0d-4306-a9c5-12ef1f7bc286"
      },
      "execution_count": null,
      "outputs": [
        {
          "output_type": "stream",
          "name": "stdout",
          "text": [
            "DNN Time 322.620865\n"
          ]
        }
      ]
    },
    {
      "cell_type": "code",
      "source": [
        "keras_dnn_err = y_test - dnn_out\n",
        "keras_dnn_err\n",
        "\n"
      ],
      "metadata": {
        "colab": {
          "base_uri": "https://localhost:8080/"
        },
        "id": "ncryQXob2Fmi",
        "outputId": "5a71c924-4d94-4b84-c1a3-825f8b4171dd"
      },
      "execution_count": null,
      "outputs": [
        {
          "output_type": "execute_result",
          "data": {
            "text/plain": [
              "array([[-2.01959655],\n",
              "       [-2.19939094],\n",
              "       [-2.31830436],\n",
              "       ...,\n",
              "       [ 0.05179694],\n",
              "       [-0.05321926],\n",
              "       [ 0.10200503]])"
            ]
          },
          "metadata": {},
          "execution_count": 17
        }
      ]
    },
    {
      "cell_type": "code",
      "source": [
        "dnn_scipy_mse = 10*np.log10(np.mean(pow(np.abs(keras_dnn_err),2)))\n",
        "labels_sigpow = 10*np.log10(np.mean(pow(np.abs(y_test),2)))\n",
        "\n",
        "print(\"Neural Network SNR compare to SciPy FFT: \", labels_sigpow - dnn_scipy_mse)\n"
      ],
      "metadata": {
        "colab": {
          "base_uri": "https://localhost:8080/"
        },
        "id": "mwHdYdaT2yKD",
        "outputId": "21a1550c-9a74-42b6-dcb9-d2ceafe31bf1"
      },
      "execution_count": null,
      "outputs": [
        {
          "output_type": "stream",
          "name": "stdout",
          "text": [
            "Neural Network SNR compare to SciPy FFT:  0.08411887650411787\n"
          ]
        }
      ]
    },
    {
      "cell_type": "code",
      "source": [],
      "metadata": {
        "id": "phWr1erB29OW"
      },
      "execution_count": null,
      "outputs": []
    },
    {
      "cell_type": "code",
      "source": [
        "\n"
      ],
      "metadata": {
        "colab": {
          "base_uri": "https://localhost:8080/"
        },
        "id": "AcD88ODe3RvK",
        "outputId": "ea4d725b-c65b-436c-c65e-640b09eb263f"
      },
      "execution_count": null,
      "outputs": [
        {
          "output_type": "execute_result",
          "data": {
            "text/plain": [
              "array([[ 3.739604, 14.      , 37.      ],\n",
              "       [ 3.633409, 14.      , 37.      ],\n",
              "       [ 3.28388 , 14.      , 37.      ],\n",
              "       ...,\n",
              "       [-3.841479, 14.      , 44.      ],\n",
              "       [-3.474722, 14.      , 44.      ],\n",
              "       [-1.90357 , 14.      , 44.      ]])"
            ]
          },
          "metadata": {},
          "execution_count": 22
        }
      ]
    },
    {
      "cell_type": "code",
      "source": [
        "import numpy as np\n",
        "import scipy as sp\n",
        "import scipy.fftpack as fft\n",
        "import scipy.linalg as la\n",
        "import math\n",
        "\n",
        "def calc_thd(data, signalFrequency, samplingRate, frequencyMargin):\n",
        "    # only care about magnitude\n",
        "    fftData = abs(fft.fft(data * np.hanning(len(data))))\n",
        "    fftData[0] = 0 # ignore DC\n",
        "    fftLen = len(fftData)/2\n",
        "    baseI = fftLen * signalFrequency * 2 / samplingRate\n",
        "    iMargain = baseI * frequencyMargin\n",
        "    baseSignalLoc = baseI - iMargain / 2 + \\\n",
        "    np.argmax(fftData[baseI - iMargain /2: baseI + iMargain/2])\n",
        "    peakLoc = np.argmax(fftData[:fftLen])\n",
        "    if peakLoc != baseSignalLoc:\n",
        "        return 1.0\n",
        "    P0 = math.pow(la.norm(fftData[baseSignalLoc - iMargain/2: baseSignalLoc + iMargain/2]), 2)\n",
        "    i = baseSignalLoc * 2\n",
        "    Pothers = 0.0\n",
        "    while i < fftLen:\n",
        "        Pothers += math.pow(la.norm(fftData[i - iMargain/2: i + iMargain/2]), 2)\n",
        "        i += baseSignalLoc\n",
        "\n",
        "    return Pothers / P0\n",
        "\n",
        "# test code\n",
        "if __name__==\"__main__\":\n",
        "    samplingRate = 44100\n",
        "    durationInSec = 10\n",
        "    signalFrequency = 1000\n",
        "    samples = float(samplingRate) * float(durationInSec)\n",
        "    index = np.linspace(0.0, samples, num=int(samples), endpoint=False)\n",
        "    time = index / samplingRate\n",
        "    multiplier = 2.0 * np.pi * signalFrequency / float(samplingRate)\n",
        "    data = np.sin(index * multiplier)\n",
        "    thd = calc_thd(data, signalFrequency, samplingRate, 0.02)\n"
      ],
      "metadata": {
        "colab": {
          "base_uri": "https://localhost:8080/",
          "height": 329
        },
        "id": "tzmKa9Qr3SIn",
        "outputId": "2de00c45-977a-4b41-bcbf-86f823fa1e82"
      },
      "execution_count": null,
      "outputs": [
        {
          "output_type": "error",
          "ename": "TypeError",
          "evalue": "ignored",
          "traceback": [
            "\u001b[0;31m---------------------------------------------------------------------------\u001b[0m",
            "\u001b[0;31mTypeError\u001b[0m                                 Traceback (most recent call last)",
            "\u001b[0;32m<ipython-input-13-9083ec8403d5>\u001b[0m in \u001b[0;36m<module>\u001b[0;34m()\u001b[0m\n\u001b[1;32m     35\u001b[0m     \u001b[0mmultiplier\u001b[0m \u001b[0;34m=\u001b[0m \u001b[0;36m2.0\u001b[0m \u001b[0;34m*\u001b[0m \u001b[0mnp\u001b[0m\u001b[0;34m.\u001b[0m\u001b[0mpi\u001b[0m \u001b[0;34m*\u001b[0m \u001b[0msignalFrequency\u001b[0m \u001b[0;34m/\u001b[0m \u001b[0mfloat\u001b[0m\u001b[0;34m(\u001b[0m\u001b[0msamplingRate\u001b[0m\u001b[0;34m)\u001b[0m\u001b[0;34m\u001b[0m\u001b[0;34m\u001b[0m\u001b[0m\n\u001b[1;32m     36\u001b[0m     \u001b[0mdata\u001b[0m \u001b[0;34m=\u001b[0m \u001b[0mnp\u001b[0m\u001b[0;34m.\u001b[0m\u001b[0msin\u001b[0m\u001b[0;34m(\u001b[0m\u001b[0mindex\u001b[0m \u001b[0;34m*\u001b[0m \u001b[0mmultiplier\u001b[0m\u001b[0;34m)\u001b[0m\u001b[0;34m\u001b[0m\u001b[0;34m\u001b[0m\u001b[0m\n\u001b[0;32m---> 37\u001b[0;31m     \u001b[0mthd\u001b[0m \u001b[0;34m=\u001b[0m \u001b[0mcalc_thd\u001b[0m\u001b[0;34m(\u001b[0m\u001b[0mdata\u001b[0m\u001b[0;34m,\u001b[0m \u001b[0msignalFrequency\u001b[0m\u001b[0;34m,\u001b[0m \u001b[0msamplingRate\u001b[0m\u001b[0;34m,\u001b[0m \u001b[0;36m0.02\u001b[0m\u001b[0;34m)\u001b[0m\u001b[0;34m\u001b[0m\u001b[0;34m\u001b[0m\u001b[0m\n\u001b[0m",
            "\u001b[0;32m<ipython-input-13-9083ec8403d5>\u001b[0m in \u001b[0;36mcalc_thd\u001b[0;34m(data, signalFrequency, samplingRate, frequencyMargin)\u001b[0m\n\u001b[1;32m     12\u001b[0m     \u001b[0mbaseI\u001b[0m \u001b[0;34m=\u001b[0m \u001b[0mfftLen\u001b[0m \u001b[0;34m*\u001b[0m \u001b[0msignalFrequency\u001b[0m \u001b[0;34m*\u001b[0m \u001b[0;36m2\u001b[0m \u001b[0;34m/\u001b[0m \u001b[0msamplingRate\u001b[0m\u001b[0;34m\u001b[0m\u001b[0;34m\u001b[0m\u001b[0m\n\u001b[1;32m     13\u001b[0m     \u001b[0miMargain\u001b[0m \u001b[0;34m=\u001b[0m \u001b[0mbaseI\u001b[0m \u001b[0;34m*\u001b[0m \u001b[0mfrequencyMargin\u001b[0m\u001b[0;34m\u001b[0m\u001b[0;34m\u001b[0m\u001b[0m\n\u001b[0;32m---> 14\u001b[0;31m     \u001b[0mbaseSignalLoc\u001b[0m \u001b[0;34m=\u001b[0m \u001b[0mbaseI\u001b[0m \u001b[0;34m-\u001b[0m \u001b[0miMargain\u001b[0m \u001b[0;34m/\u001b[0m \u001b[0;36m2\u001b[0m \u001b[0;34m+\u001b[0m     \u001b[0mnp\u001b[0m\u001b[0;34m.\u001b[0m\u001b[0margmax\u001b[0m\u001b[0;34m(\u001b[0m\u001b[0mfftData\u001b[0m\u001b[0;34m[\u001b[0m\u001b[0mbaseI\u001b[0m \u001b[0;34m-\u001b[0m \u001b[0miMargain\u001b[0m \u001b[0;34m/\u001b[0m\u001b[0;36m2\u001b[0m\u001b[0;34m:\u001b[0m \u001b[0mbaseI\u001b[0m \u001b[0;34m+\u001b[0m \u001b[0miMargain\u001b[0m\u001b[0;34m/\u001b[0m\u001b[0;36m2\u001b[0m\u001b[0;34m]\u001b[0m\u001b[0;34m)\u001b[0m\u001b[0;34m\u001b[0m\u001b[0;34m\u001b[0m\u001b[0m\n\u001b[0m\u001b[1;32m     15\u001b[0m     \u001b[0mpeakLoc\u001b[0m \u001b[0;34m=\u001b[0m \u001b[0mnp\u001b[0m\u001b[0;34m.\u001b[0m\u001b[0margmax\u001b[0m\u001b[0;34m(\u001b[0m\u001b[0mfftData\u001b[0m\u001b[0;34m[\u001b[0m\u001b[0;34m:\u001b[0m\u001b[0mfftLen\u001b[0m\u001b[0;34m]\u001b[0m\u001b[0;34m)\u001b[0m\u001b[0;34m\u001b[0m\u001b[0;34m\u001b[0m\u001b[0m\n\u001b[1;32m     16\u001b[0m     \u001b[0;32mif\u001b[0m \u001b[0mpeakLoc\u001b[0m \u001b[0;34m!=\u001b[0m \u001b[0mbaseSignalLoc\u001b[0m\u001b[0;34m:\u001b[0m\u001b[0;34m\u001b[0m\u001b[0;34m\u001b[0m\u001b[0m\n",
            "\u001b[0;31mTypeError\u001b[0m: slice indices must be integers or None or have an __index__ method"
          ]
        }
      ]
    },
    {
      "cell_type": "code",
      "source": [
        "THD(y_test[1:10000])"
      ],
      "metadata": {
        "colab": {
          "base_uri": "https://localhost:8080/",
          "height": 385
        },
        "id": "TiQ-arcDh5U7",
        "outputId": "ca3a3d8b-ee55-4588-d667-a442d2fe6815"
      },
      "execution_count": null,
      "outputs": [
        {
          "output_type": "stream",
          "name": "stdout",
          "text": [
            "Fundamental frequency not specified, estimated frequency = 4856485.65 Hz\n",
            "THD will calculate 0 harmonic slots\n"
          ]
        },
        {
          "output_type": "stream",
          "name": "stderr",
          "text": [
            "/usr/local/lib/python3.7/dist-packages/ipykernel_launcher.py:51: DeprecationWarning: `np.int` is a deprecated alias for the builtin `int`. To silence this warning, use `int` by itself. Doing this will not modify any behavior and is safe. When replacing `np.int`, you may wish to use e.g. `np.int64` or `np.int32` to specify the precision. If you wish to review your current use, check the release note link for additional information.\n",
            "Deprecated in NumPy 1.20; for more details and guidance: https://numpy.org/devdocs/release/1.20.0-notes.html#deprecations\n"
          ]
        },
        {
          "output_type": "error",
          "ename": "IndexError",
          "evalue": "ignored",
          "traceback": [
            "\u001b[0;31m---------------------------------------------------------------------------\u001b[0m",
            "\u001b[0;31mIndexError\u001b[0m                                Traceback (most recent call last)",
            "\u001b[0;32m<ipython-input-8-5e950d08f031>\u001b[0m in \u001b[0;36m<module>\u001b[0;34m()\u001b[0m\n\u001b[0;32m----> 1\u001b[0;31m \u001b[0mTHD\u001b[0m\u001b[0;34m(\u001b[0m\u001b[0my_test\u001b[0m\u001b[0;34m[\u001b[0m\u001b[0;36m1\u001b[0m\u001b[0;34m:\u001b[0m\u001b[0;36m10000\u001b[0m\u001b[0;34m]\u001b[0m\u001b[0;34m)\u001b[0m\u001b[0;34m\u001b[0m\u001b[0;34m\u001b[0m\u001b[0m\n\u001b[0m",
            "\u001b[0;32m<ipython-input-1-2b950b0ca621>\u001b[0m in \u001b[0;36mTHD\u001b[0;34m(sig, fs, f0)\u001b[0m\n\u001b[1;32m     53\u001b[0m     \u001b[0;32mfor\u001b[0m \u001b[0mx\u001b[0m \u001b[0;32min\u001b[0m \u001b[0mrange\u001b[0m\u001b[0;34m(\u001b[0m\u001b[0;36m1\u001b[0m\u001b[0;34m,\u001b[0m \u001b[0mharmonic_num\u001b[0m\u001b[0;34m)\u001b[0m\u001b[0;34m:\u001b[0m\u001b[0;34m\u001b[0m\u001b[0;34m\u001b[0m\u001b[0m\n\u001b[1;32m     54\u001b[0m         \u001b[0mprint\u001b[0m\u001b[0;34m(\u001b[0m\u001b[0;34m'%.3f'\u001b[0m \u001b[0;34m%\u001b[0m \u001b[0mabs\u001b[0m\u001b[0;34m(\u001b[0m\u001b[0mfreq_bins\u001b[0m\u001b[0;34m[\u001b[0m\u001b[0mi\u001b[0m \u001b[0;34m*\u001b[0m \u001b[0mx\u001b[0m\u001b[0;34m]\u001b[0m\u001b[0;34m)\u001b[0m\u001b[0;34m,\u001b[0m \u001b[0mend\u001b[0m\u001b[0;34m=\u001b[0m\u001b[0;34m' '\u001b[0m\u001b[0;34m)\u001b[0m\u001b[0;34m\u001b[0m\u001b[0;34m\u001b[0m\u001b[0m\n\u001b[0;32m---> 55\u001b[0;31m     \u001b[0mret\u001b[0m \u001b[0;34m=\u001b[0m \u001b[0msum\u001b[0m\u001b[0;34m(\u001b[0m\u001b[0;34m[\u001b[0m\u001b[0mabs\u001b[0m\u001b[0;34m(\u001b[0m\u001b[0mfreq_bins\u001b[0m\u001b[0;34m[\u001b[0m\u001b[0mi\u001b[0m\u001b[0;34m*\u001b[0m\u001b[0mx\u001b[0m\u001b[0;34m]\u001b[0m\u001b[0;34m)\u001b[0m \u001b[0;32mfor\u001b[0m \u001b[0mx\u001b[0m \u001b[0;32min\u001b[0m \u001b[0mrange\u001b[0m\u001b[0;34m(\u001b[0m\u001b[0;36m2\u001b[0m\u001b[0;34m,\u001b[0m \u001b[0mharmonic_num\u001b[0m\u001b[0;34m)\u001b[0m\u001b[0;34m]\u001b[0m\u001b[0;34m)\u001b[0m \u001b[0;34m/\u001b[0m \u001b[0mabs\u001b[0m\u001b[0;34m(\u001b[0m\u001b[0mfreq_bins\u001b[0m\u001b[0;34m[\u001b[0m\u001b[0mi\u001b[0m\u001b[0;34m]\u001b[0m\u001b[0;34m)\u001b[0m\u001b[0;34m\u001b[0m\u001b[0;34m\u001b[0m\u001b[0m\n\u001b[0m\u001b[1;32m     56\u001b[0m     \u001b[0mret_dB\u001b[0m \u001b[0;34m=\u001b[0m \u001b[0mdB\u001b[0m\u001b[0;34m(\u001b[0m\u001b[0mret\u001b[0m\u001b[0;34m)\u001b[0m\u001b[0;34m\u001b[0m\u001b[0;34m\u001b[0m\u001b[0m\n\u001b[1;32m     57\u001b[0m     \u001b[0mprint\u001b[0m\u001b[0;34m(\u001b[0m\u001b[0;34m'\\nTHD: %f%%'\u001b[0m \u001b[0;34m%\u001b[0m \u001b[0;34m(\u001b[0m\u001b[0mret\u001b[0m \u001b[0;34m*\u001b[0m \u001b[0;36m100\u001b[0m\u001b[0;34m)\u001b[0m\u001b[0;34m)\u001b[0m\u001b[0;34m\u001b[0m\u001b[0;34m\u001b[0m\u001b[0m\n",
            "\u001b[0;31mIndexError\u001b[0m: index 3035000 is out of bounds for axis 0 with size 9999"
          ]
        }
      ]
    },
    {
      "cell_type": "code",
      "source": [
        "plt.plot(X_test[1:10000],'pink')\n",
        "plt.plot(y_test[1:10000])\n",
        "\n",
        "plt.legend()\n",
        "plt.title(\"kd\")\n",
        "plt.show()"
      ],
      "metadata": {
        "colab": {
          "base_uri": "https://localhost:8080/",
          "height": 299
        },
        "id": "ZwROKBcmnO_k",
        "outputId": "5dfe60b0-fb1c-4638-c7c2-0a55d6e20b7d"
      },
      "execution_count": null,
      "outputs": [
        {
          "output_type": "stream",
          "name": "stderr",
          "text": [
            "No handles with labels found to put in legend.\n"
          ]
        },
        {
          "output_type": "display_data",
          "data": {
            "image/png": "[encoded data removed]",
            "text/plain": [
              "<Figure size 432x288 with 1 Axes>"
            ]
          },
          "metadata": {
            "needs_background": "light"
          }
        }
      ]
    },
    {
      "cell_type": "code",
      "source": [
        "from scipy.signal.windows import general_cosine\n",
        "from scipy.fftpack import next_fast_len\n",
        "from numpy.fft import rfft, irfft\n",
        "from numpy import argmax, mean, log, concatenate, zeros\n",
        "import numpy as np\n",
        "from waveform_analysis._common import rms_flat, parabolic\n",
        "from waveform_analysis import A_weight\n",
        "\n",
        "\n",
        "# This requires accurately measuring frequency component amplitudes, so use a\n",
        "# flat-top window (https://holometer.fnal.gov/GH_FFT.pdf)\n",
        "flattops = {\n",
        "    'dantona3': [0.2811, 0.5209, 0.1980],\n",
        "    'dantona5': [0.21557895, 0.41663158, 0.277263158, 0.083578947,\n",
        "                 0.006947368],\n",
        "    'SFT3F': [0.26526, 0.5, 0.23474],\n",
        "    'SFT4F': [0.21706, 0.42103, 0.28294, 0.07897],\n",
        "    'SFT5F': [0.1881, 0.36923, 0.28702, 0.13077, 0.02488],\n",
        "    'SFT3M': [0.28235, 0.52105, 0.19659],\n",
        "    'SFT4M': [0.241906, 0.460841, 0.255381, 0.041872],\n",
        "    'SFT5M': [0.209671, 0.407331, 0.281225, 0.092669, 0.0091036],\n",
        "    'FTSRS': [1.0, 1.93, 1.29, 0.388, 0.028],\n",
        "    'FTNI': [0.2810639, 0.5208972, 0.1980399],\n",
        "    'FTHP': [1.0, 1.912510941, 1.079173272, 0.1832630879],\n",
        "    'HFT70': [1, 1.90796, 1.07349, 0.18199],\n",
        "    'HFT95': [1, 1.9383379, 1.3045202, 0.4028270, 0.0350665],\n",
        "    'HFT90D': [1, 1.942604, 1.340318, 0.440811, 0.043097],\n",
        "    'HFT116D': [1, 1.9575375, 1.4780705, 0.6367431, 0.1228389, 0.0066288],\n",
        "    'HFT144D': [1, 1.96760033, 1.57983607, 0.81123644, 0.22583558, 0.02773848,\n",
        "                0.00090360],\n",
        "    'HFT169D': [1, 1.97441842, 1.65409888, 0.95788186, 0.33673420, 0.06364621,\n",
        "                0.00521942, 0.00010599],\n",
        "    'HFT196D': [1, 1.979280420, 1.710288951, 1.081629853, 0.448734314,\n",
        "                0.112376628, 0.015122992, 0.000871252, 0.000011896],\n",
        "    'HFT223D': [1, 1.98298997309, 1.75556083063, 1.19037717712, 0.56155440797,\n",
        "                0.17296769663, 0.03233247087, 0.00324954578, 0.00013801040,\n",
        "                0.00000132725],\n",
        "    'HFT248D': [1, 1.985844164102, 1.791176438506, 1.282075284005,\n",
        "                0.667777530266, 0.240160796576, 0.056656381764, 0.008134974479,\n",
        "                0.000624544650, 0.000019808998, 0.000000132974],\n",
        "    }\n",
        "\n",
        "\n",
        "def THDN(signal, fs, weight=None):\n",
        "    \"\"\"Measure the THD+N for a signal and print the results\n",
        "    Prints the estimated fundamental frequency and the measured THD+N.  This is\n",
        "    calculated from the ratio of the entire signal before and after\n",
        "    notch-filtering.\n",
        "    This notch-filters by nulling out the frequency coefficients ±10% of the\n",
        "    fundamental\n",
        "    TODO: Make R vs F reference a parameter (currently is R)\n",
        "    TODO: Or report all of the above in a dictionary?\n",
        "    \"\"\"\n",
        "    # Get rid of DC and window the signal\n",
        "    signal = np.asarray(signal) + 0.0  # Float-like array\n",
        "    # TODO: Do this in the frequency domain, and take any skirts with it?\n",
        "    signal -= mean(signal)\n",
        "\n",
        "    window = general_cosine(len(signal), flattops['HFT248D'])\n",
        "    windowed = signal * window\n",
        "    del signal\n",
        "\n",
        "    # Zero pad to nearest power of two\n",
        "    new_len = next_fast_len(len(windowed))\n",
        "    windowed = concatenate((windowed, zeros(new_len - len(windowed))))\n",
        "\n",
        "    # Measure the total signal before filtering but after windowing\n",
        "    total_rms = rms_flat(windowed)\n",
        "\n",
        "    # Find the peak of the frequency spectrum (fundamental frequency)\n",
        "    f = rfft(windowed)\n",
        "    i = argmax(abs(f))\n",
        "    true_i = parabolic(log(abs(f)), i)[0]\n",
        "    frequency = fs * (true_i / len(windowed))\n",
        "\n",
        "    # Filter out fundamental by throwing away values ±10%\n",
        "    lowermin = int(true_i * 0.9)\n",
        "    uppermin = int(true_i * 1.1)\n",
        "    f[lowermin: uppermin] = 0\n",
        "    # TODO: Zeroing FFT bins is bad\n",
        "\n",
        "    # Transform noise back into the time domain and measure it\n",
        "    noise = irfft(f)\n",
        "    # TODO: RMS and A-weighting in frequency domain?  Parseval?\n",
        "\n",
        "    if weight is None:\n",
        "        pass\n",
        "    elif weight == 'A':\n",
        "        # Apply A-weighting to residual noise (Not normally used for\n",
        "        # distortion, but used to measure dynamic range with -60 dBFS signal,\n",
        "        # for instance)\n",
        "        noise = A_weight(noise, fs)\n",
        "        # TODO: filtfilt? tail end of filter?\n",
        "    else:\n",
        "        raise ValueError('Weighting not understood')\n",
        "\n",
        "    # TODO: Return a dict or list of frequency, THD+N?\n",
        "    return rms_flat(noise) / total_rms\n",
        "\n",
        "\n",
        "def THD(signal, fs):\n",
        "    \"\"\"Measure the THD for a signal\n",
        "    This function is not yet trustworthy.\n",
        "    Returns the estimated fundamental frequency and the measured THD,\n",
        "    calculated by finding peaks in the spectrum.\n",
        "    TODO: Make weighting a parameter\n",
        "    TODO: Make R vs F reference a parameter (F as default??)\n",
        "    \"\"\"\n",
        "    # Get rid of DC and window the signal\n",
        "    signal = np.asarray(signal) + 0.0  # Float-like array\n",
        "    # TODO: Do this in the frequency domain, and take any skirts with it?\n",
        "    signal -= mean(signal)\n",
        "\n",
        "    window = general_cosine(len(signal), flattops['HFT248D'])\n",
        "    windowed = signal * window\n",
        "    del signal\n",
        "\n",
        "    # Find the peak of the frequency spectrum (fundamental frequency)\n",
        "    f = rfft(windowed)\n",
        "    i = argmax(abs(f))\n",
        "    true_i = parabolic(log(abs(f)), i)[0]\n",
        "    print('Frequency: %f Hz' % (fs * (true_i / len(windowed))))\n",
        "\n",
        "    print('fundamental amplitude: %.3f' % abs(f[i]))\n",
        "\n",
        "    # Find the values for the first 15 harmonics.  Includes harmonic peaks\n",
        "    # only, by definition\n",
        "    # TODO: Should peak-find near each one, not just assume that fundamental\n",
        "    # was perfectly estimated.\n",
        "    # Instead of limited to 15, figure out how many fit based on f0 and\n",
        "    # sampling rate and report this \"4 harmonics\" and list the strength of each\n",
        "    for x in range(2, 15):\n",
        "        print('%.3f' % abs(f[i * x]), end=' ')\n",
        "\n",
        "    THD = sum([abs(f[i*x]) for x in range(2, 15)]) / abs(f[i])\n",
        "    print('\\nTHD: %f%%' % (THD * 100))\n",
        "    return"
      ],
      "metadata": {
        "colab": {
          "base_uri": "https://localhost:8080/",
          "height": 383
        },
        "id": "c5qh017Wzf6f",
        "outputId": "125e8ef3-3060-4b75-e1cb-84daf6dab099"
      },
      "execution_count": null,
      "outputs": [
        {
          "output_type": "error",
          "ename": "ModuleNotFoundError",
          "evalue": "ignored",
          "traceback": [
            "\u001b[0;31m---------------------------------------------------------------------------\u001b[0m",
            "\u001b[0;31mModuleNotFoundError\u001b[0m                       Traceback (most recent call last)",
            "\u001b[0;32m<ipython-input-21-d4995419662f>\u001b[0m in \u001b[0;36m<module>\u001b[0;34m()\u001b[0m\n\u001b[1;32m      4\u001b[0m \u001b[0;32mfrom\u001b[0m \u001b[0mnumpy\u001b[0m \u001b[0;32mimport\u001b[0m \u001b[0margmax\u001b[0m\u001b[0;34m,\u001b[0m \u001b[0mmean\u001b[0m\u001b[0;34m,\u001b[0m \u001b[0mlog\u001b[0m\u001b[0;34m,\u001b[0m \u001b[0mconcatenate\u001b[0m\u001b[0;34m,\u001b[0m \u001b[0mzeros\u001b[0m\u001b[0;34m\u001b[0m\u001b[0;34m\u001b[0m\u001b[0m\n\u001b[1;32m      5\u001b[0m \u001b[0;32mimport\u001b[0m \u001b[0mnumpy\u001b[0m \u001b[0;32mas\u001b[0m \u001b[0mnp\u001b[0m\u001b[0;34m\u001b[0m\u001b[0;34m\u001b[0m\u001b[0m\n\u001b[0;32m----> 6\u001b[0;31m \u001b[0;32mfrom\u001b[0m \u001b[0mwaveform_analysis\u001b[0m\u001b[0;34m.\u001b[0m\u001b[0m_common\u001b[0m \u001b[0;32mimport\u001b[0m \u001b[0mrms_flat\u001b[0m\u001b[0;34m,\u001b[0m \u001b[0mparabolic\u001b[0m\u001b[0;34m\u001b[0m\u001b[0;34m\u001b[0m\u001b[0m\n\u001b[0m\u001b[1;32m      7\u001b[0m \u001b[0;32mfrom\u001b[0m \u001b[0mwaveform_analysis\u001b[0m \u001b[0;32mimport\u001b[0m \u001b[0mA_weight\u001b[0m\u001b[0;34m\u001b[0m\u001b[0;34m\u001b[0m\u001b[0m\n\u001b[1;32m      8\u001b[0m \u001b[0;34m\u001b[0m\u001b[0m\n",
            "\u001b[0;31mModuleNotFoundError\u001b[0m: No module named 'waveform_analysis'",
            "",
            "\u001b[0;31m---------------------------------------------------------------------------\u001b[0;32m\nNOTE: If your import is failing due to a missing package, you can\nmanually install dependencies using either !pip or !apt.\n\nTo view examples of installing some common dependencies, click the\n\"Open Examples\" button below.\n\u001b[0;31m---------------------------------------------------------------------------\u001b[0m\n"
          ],
          "errorDetails": {
            "actions": [
              {
                "action": "open_url",
                "actionText": "Open Examples",
                "url": "/notebooks/snippets/importing_libraries.ipynb"
              }
            ]
          }
        }
      ]
    },
    {
      "cell_type": "code",
      "source": [],
      "metadata": {
        "id": "XE_uOm1S2rEL"
      },
      "execution_count": null,
      "outputs": []
    }
  ]
}